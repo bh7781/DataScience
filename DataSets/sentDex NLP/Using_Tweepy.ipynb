{
 "cells": [
  {
   "cell_type": "code",
   "execution_count": 1,
   "metadata": {},
   "outputs": [],
   "source": [
    "from tweepy import Stream, OAuthHandler\n",
    "from tweepy.streaming import StreamListener\n",
    "import time"
   ]
  },
  {
   "cell_type": "code",
   "execution_count": 2,
   "metadata": {},
   "outputs": [],
   "source": [
    "ckey = 'vt3t2SfOyW4UEbrw8DYKsxViD'\n",
    "csecret = 'DpIUpb9ipwSy4C0h6yAy9WNYtN85rIyES8pCJ8tFG3PhKQI4OD'\n",
    "atoken = '1072801578808164352-9f6hqLiDcSCmEE7LMsnFvpcvVaA6qb'\n",
    "asecret = 'muHr3Jw106ffBNtBaGZDOFnznr1ple0vo6U07XcEbnWtt'"
   ]
  },
  {
   "cell_type": "code",
   "execution_count": 3,
   "metadata": {},
   "outputs": [],
   "source": [
    "class listener(StreamListener) :\n",
    "    def on_data(self, data) : \n",
    "        try :\n",
    "            print(data)\n",
    "            saveFile = open('twitDB.csv', 'a')\n",
    "            saveFile.write('\\n')\n",
    "            saveFile.close()\n",
    "            return True\n",
    "        except BaseException :\n",
    "            print('Failed on data')\n",
    "            time.sleep(5)\n",
    "    \n",
    "    def on_error(self, status) : \n",
    "        print(status)"
   ]
  },
  {
   "cell_type": "code",
   "execution_count": 4,
   "metadata": {},
   "outputs": [],
   "source": [
    "auth = OAuthHandler(ckey, csecret)\n",
    "auth.set_access_token(atoken, asecret)"
   ]
  },
  {
   "cell_type": "code",
   "execution_count": null,
   "metadata": {},
   "outputs": [],
   "source": [
    "twitterStream = Stream(auth, listener())"
   ]
  },
  {
   "cell_type": "code",
   "execution_count": null,
   "metadata": {},
   "outputs": [],
   "source": [
    "twitterStream.filter(track=['buieeeeee'])"
   ]
  },
  {
   "cell_type": "code",
   "execution_count": null,
   "metadata": {},
   "outputs": [],
   "source": []
  }
 ],
 "metadata": {
  "kernelspec": {
   "display_name": "Python 3",
   "language": "python",
   "name": "python3"
  },
  "language_info": {
   "codemirror_mode": {
    "name": "ipython",
    "version": 3
   },
   "file_extension": ".py",
   "mimetype": "text/x-python",
   "name": "python",
   "nbconvert_exporter": "python",
   "pygments_lexer": "ipython3",
   "version": "3.7.0"
  }
 },
 "nbformat": 4,
 "nbformat_minor": 2
}
