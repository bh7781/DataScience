{
 "cells": [
  {
   "cell_type": "code",
   "execution_count": 1,
   "metadata": {},
   "outputs": [],
   "source": [
    "import pandas as pd\n",
    "import warnings\n",
    "warnings.filterwarnings('ignore')\n",
    "import seaborn as sns\n",
    "import matplotlib.pyplot as plt\n",
    "sns.set(style='white', color_codes=True)\n",
    "iris_original = pd.read_csv('Iris.csv')\n",
    "iris = iris_original.copy()\n",
    "iris = iris.drop('Id', axis=1)\n",
    "import numpy as np"
   ]
  },
  {
   "cell_type": "code",
   "execution_count": 2,
   "metadata": {},
   "outputs": [
    {
     "data": {
      "text/plain": [
       "array(['SepalLengthCm', 'SepalWidthCm', 'PetalLengthCm', 'PetalWidthCm',\n",
       "       'Species'], dtype=object)"
      ]
     },
     "execution_count": 2,
     "metadata": {},
     "output_type": "execute_result"
    }
   ],
   "source": [
    "iris.columns.values"
   ]
  },
  {
   "cell_type": "code",
   "execution_count": 4,
   "metadata": {},
   "outputs": [
    {
     "name": "stdout",
     "output_type": "stream",
     "text": [
      "***Boxplot for SepalLengthCm and Iris-setosa\n",
      "Median :  5.0\n",
      "Whiskers:  [4.3, 5.8]\n",
      "Outliers:  []\n",
      "***Boxplot for SepalLengthCm and Iris-versicolor\n",
      "Median :  5.9\n",
      "Whiskers:  [4.9, 7.0]\n",
      "Outliers:  []\n",
      "***Boxplot for SepalLengthCm and Iris-virginica\n",
      "Median :  6.5\n",
      "Whiskers:  [5.6, 7.9]\n",
      "Outliers:  [4.9]\n",
      "[4.9]\n",
      "outliers  4.9\n",
      "***Boxplot for SepalWidthCm and Iris-setosa\n",
      "Median :  3.4\n",
      "Whiskers:  [2.3, 4.4]\n",
      "Outliers:  []\n",
      "***Boxplot for SepalWidthCm and Iris-versicolor\n",
      "Median :  2.8\n",
      "Whiskers:  [2.0, 3.4]\n",
      "Outliers:  []\n",
      "***Boxplot for SepalWidthCm and Iris-virginica\n",
      "Median :  3.0\n",
      "Whiskers:  [2.5, 3.6]\n",
      "Outliers:  [2.2 3.8 3.8]\n",
      "[2.2 3.8 3.8]\n",
      "outliers  2.2\n",
      "outliers  3.8\n",
      "outliers  3.8\n",
      "***Boxplot for PetalLengthCm and Iris-setosa\n",
      "Median :  1.5\n",
      "Whiskers:  [1.2, 1.7]\n",
      "Outliers:  [1.1 1.  1.9 1.9]\n",
      "[1.1 1.  1.9 1.9]\n",
      "outliers  1.1\n",
      "outliers  1.0\n",
      "outliers  1.9\n",
      "outliers  1.9\n",
      "***Boxplot for PetalLengthCm and Iris-versicolor\n",
      "Median :  4.35\n",
      "Whiskers:  [3.3, 5.1]\n",
      "Outliers:  [3.]\n",
      "[3.]\n",
      "outliers  3.0\n",
      "***Boxplot for PetalLengthCm and Iris-virginica\n",
      "Median :  5.55\n",
      "Whiskers:  [4.5, 6.9]\n",
      "Outliers:  []\n",
      "***Boxplot for PetalWidthCm and Iris-setosa\n",
      "Median :  0.2\n",
      "Whiskers:  [0.1, 0.4]\n",
      "Outliers:  [0.5 0.6]\n",
      "[0.5 0.6]\n",
      "outliers  0.5\n",
      "outliers  0.6\n",
      "***Boxplot for PetalWidthCm and Iris-versicolor\n",
      "Median :  1.3\n",
      "Whiskers:  [1.0, 1.8]\n",
      "Outliers:  []\n",
      "***Boxplot for PetalWidthCm and Iris-virginica\n",
      "Median :  2.0\n",
      "Whiskers:  [1.4, 2.5]\n",
      "Outliers:  []\n"
     ]
    },
    {
     "data": {
      "image/png": "[encoded data removed]",
      "text/plain": [
       "<Figure size 432x288 with 1 Axes>"
      ]
     },
     "metadata": {},
     "output_type": "display_data"
    }
   ],
   "source": [
    "iris_class =  [\"Iris-setosa\", \"Iris-versicolor\", \"Iris-virginica\"]\n",
    "for i in range(0,4) :\n",
    "    for j in range(0,3) : \n",
    "        print(\"***Boxplot for \" + iris.columns.values[i] + \" and \" + iris_class[j])\n",
    "        data = iris[iris.columns.values[i]][iris.Species == iris_class[j]]\n",
    "        print(\"Median : \", np.median(data))\n",
    "        boxfox = plt.boxplot(data, showfliers=True)\n",
    "        print('Whiskers: ', [item.get_ydata()[1] for item in boxfox['whiskers']])\n",
    "        x = [item.get_ydata() for item in boxfox['fliers']]\n",
    "        print('Outliers: ', x[0])\n",
    "        if len(x[0] > 0) :\n",
    "            print(x[0])\n",
    "            for k in range(0, len(x[0])) : \n",
    "                #print(\"ol for \" , data)\n",
    "                print(\"outliers \",  x[0][k])\n",
    "                data.replace(x[0][k], np.median(data),inplace=True)\n",
    "                #print(\"bla\", data)\n",
    "                iris[iris.columns.values[i]][iris.Species == iris_class[j]] = data\n",
    "        #plt.pause(0.05)\n",
    "#iris.SepalWidthCm[iris.Species == 'Iris-virginica']"
   ]
  },
  {
   "cell_type": "code",
   "execution_count": 8,
   "metadata": {},
   "outputs": [],
   "source": [
    "iris.to_excel('out.xlsx')"
   ]
  },
  {
   "cell_type": "code",
   "execution_count": null,
   "metadata": {},
   "outputs": [],
   "source": []
  }
 ],
 "metadata": {
  "kernelspec": {
   "display_name": "Python 3",
   "language": "python",
   "name": "python3"
  },
  "language_info": {
   "codemirror_mode": {
    "name": "ipython",
    "version": 3
   },
   "file_extension": ".py",
   "mimetype": "text/x-python",
   "name": "python",
   "nbconvert_exporter": "python",
   "pygments_lexer": "ipython3",
   "version": "3.6.5"
  }
 },
 "nbformat": 4,
 "nbformat_minor": 2
}
