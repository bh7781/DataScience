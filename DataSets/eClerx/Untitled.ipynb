{
 "cells": [
  {
   "cell_type": "code",
   "execution_count": 4,
   "metadata": {},
   "outputs": [],
   "source": [
    "import pandas as pd\n",
    "import matplotlib.pyplot as plt\n",
    "import seaborn as sns\n",
    "from sklearn.model_selection import train_test_split\n",
    "from sklearn.ensemble import RandomForestClassifier\n",
    "from sklearn.metrics import accuracy_score\n",
    "import warnings\n",
    "warnings.filterwarnings('ignore')"
   ]
  },
  {
   "cell_type": "code",
   "execution_count": 25,
   "metadata": {},
   "outputs": [],
   "source": [
    "opportunities_original = pd.read_csv('Opportunity.csv', encoding = 'unicode_escape')\n",
    "opportunities = opportunities_original.copy()"
   ]
  },
  {
   "cell_type": "code",
   "execution_count": null,
   "metadata": {},
   "outputs": [],
   "source": [
    "opportunities.info(verbose=True, null_counts=True)"
   ]
  },
  {
   "cell_type": "code",
   "execution_count": null,
   "metadata": {},
   "outputs": [],
   "source": [
    "opportunities.columns.tolist()"
   ]
  },
  {
   "cell_type": "code",
   "execution_count": 31,
   "metadata": {},
   "outputs": [],
   "source": [
    "req_features = ['Amount', 'Days_in_Quarter__c', 'End_Customer_Region__c', 'ExpectedRevenue', 'FiscalQuarter', \n",
    "                'FiscalYear', 'ForecastCategory', 'ForecastCategoryName', 'HasOpportunityLineItem', \n",
    "                'InvoiceTotalIncludingVATFreight__c', 'IsClosed', 'IsSplit', 'LineItemCount__c', 'NEW_Total_ACV__c', \n",
    "                'Probability', 'PushCount__c', 'RecordTypeId', 'Spigit_Channel_Type__c', 'Spigit_Community_Type__c', \n",
    "                'Spigit_Rep_Assesment__c', 'Total_ACV__c', 'Total_Spigit_Consulting__c', 'Total_Spigit_Consulting_old__c', \n",
    "                'Total_Spigit_Subscriptions__c', 'Total_Spigit_Subscriptions_old__c', 'Total_Subscriptions__c', \n",
    "                'TotalOpportunityQuantity', 'Type', 'IsWon']"
   ]
  },
  {
   "cell_type": "code",
   "execution_count": 32,
   "metadata": {},
   "outputs": [],
   "source": [
    "opportunities = opportunities[req_features]"
   ]
  },
  {
   "cell_type": "code",
   "execution_count": 41,
   "metadata": {},
   "outputs": [
    {
     "name": "stdout",
     "output_type": "stream",
     "text": [
      "<class 'pandas.core.frame.DataFrame'>\n",
      "RangeIndex: 4181 entries, 0 to 4180\n",
      "Data columns (total 29 columns):\n",
      "Amount                                3431 non-null float64\n",
      "Days_in_Quarter__c                    4181 non-null int64\n",
      "End_Customer_Region__c                1926 non-null object\n",
      "ExpectedRevenue                       3431 non-null float64\n",
      "FiscalQuarter                         4181 non-null int64\n",
      "FiscalYear                            4181 non-null int64\n",
      "ForecastCategory                      4181 non-null object\n",
      "ForecastCategoryName                  4181 non-null object\n",
      "HasOpportunityLineItem                4181 non-null bool\n",
      "InvoiceTotalIncludingVATFreight__c    4181 non-null float64\n",
      "IsClosed                              4181 non-null bool\n",
      "IsSplit                               4181 non-null bool\n",
      "LineItemCount__c                      4181 non-null int64\n",
      "NEW_Total_ACV__c                      4181 non-null float64\n",
      "Probability                           4181 non-null int64\n",
      "PushCount__c                          4180 non-null float64\n",
      "RecordTypeId                          4181 non-null object\n",
      "Spigit_Channel_Type__c                4181 non-null object\n",
      "Spigit_Community_Type__c              4181 non-null object\n",
      "Spigit_Rep_Assesment__c               4181 non-null object\n",
      "Total_ACV__c                          4181 non-null float64\n",
      "Total_Spigit_Consulting__c            4181 non-null float64\n",
      "Total_Spigit_Consulting_old__c        4096 non-null float64\n",
      "Total_Spigit_Subscriptions__c         4181 non-null float64\n",
      "Total_Spigit_Subscriptions_old__c     4096 non-null float64\n",
      "Total_Subscriptions__c                4181 non-null int64\n",
      "TotalOpportunityQuantity              3429 non-null float64\n",
      "Type                                  4181 non-null object\n",
      "IsWon                                 4181 non-null bool\n",
      "dtypes: bool(4), float64(11), int64(6), object(8)\n",
      "memory usage: 833.0+ KB\n"
     ]
    }
   ],
   "source": [
    "opportunities.info(verbose=True, null_counts=True)"
   ]
  },
  {
   "cell_type": "code",
   "execution_count": 48,
   "metadata": {},
   "outputs": [
    {
     "data": {
      "text/plain": [
       "Amount                                   0\n",
       "Days_in_Quarter__c                       0\n",
       "End_Customer_Region__c                2255\n",
       "ExpectedRevenue                          0\n",
       "FiscalQuarter                            0\n",
       "FiscalYear                               0\n",
       "ForecastCategory                         0\n",
       "ForecastCategoryName                     0\n",
       "HasOpportunityLineItem                   0\n",
       "InvoiceTotalIncludingVATFreight__c       0\n",
       "IsClosed                                 0\n",
       "IsSplit                                  0\n",
       "LineItemCount__c                         0\n",
       "NEW_Total_ACV__c                         0\n",
       "Probability                              0\n",
       "PushCount__c                             1\n",
       "RecordTypeId                             0\n",
       "Spigit_Channel_Type__c                   0\n",
       "Spigit_Community_Type__c                 0\n",
       "Spigit_Rep_Assesment__c                  0\n",
       "Total_ACV__c                             0\n",
       "Total_Spigit_Consulting__c               0\n",
       "Total_Spigit_Consulting_old__c           0\n",
       "Total_Spigit_Subscriptions__c            0\n",
       "Total_Spigit_Subscriptions_old__c        0\n",
       "Total_Subscriptions__c                   0\n",
       "TotalOpportunityQuantity                 0\n",
       "Type                                     0\n",
       "IsWon                                    0\n",
       "dtype: int64"
      ]
     },
     "execution_count": 48,
     "metadata": {},
     "output_type": "execute_result"
    }
   ],
   "source": [
    "opportunities.isnull().sum()"
   ]
  },
  {
   "cell_type": "code",
   "execution_count": 45,
   "metadata": {},
   "outputs": [],
   "source": [
    "replace_with_MISSING = ['End_Customer_Region__c', 'Spigit_Channel_Type__c', 'Spigit_Community_Type__c', 'Spigit_Rep_Assesment__c', 'Type']\n",
    "opportunities[replace_with_mode] = opportunities[replace_with_mode].fillna('MISSING')"
   ]
  },
  {
   "cell_type": "code",
   "execution_count": null,
   "metadata": {},
   "outputs": [],
   "source": []
  },
  {
   "cell_type": "code",
   "execution_count": 46,
   "metadata": {},
   "outputs": [],
   "source": [
    "replace_with_mean = ['Amount', 'End_Customer_Region__c', 'ExpectedRevenue', 'Total_Spigit_Consulting_old__c', \n",
    "                     'Total_Spigit_Subscriptions_old__c', 'TotalOpportunityQuantity']\n",
    "opportunities[replace_with_mean] = opportunities[replace_with_mean].fillna(opportunities[replace_with_mean].mean())"
   ]
  },
  {
   "cell_type": "code",
   "execution_count": null,
   "metadata": {},
   "outputs": [],
   "source": []
  },
  {
   "cell_type": "code",
   "execution_count": null,
   "metadata": {},
   "outputs": [],
   "source": []
  },
  {
   "cell_type": "code",
   "execution_count": null,
   "metadata": {},
   "outputs": [],
   "source": []
  },
  {
   "cell_type": "code",
   "execution_count": null,
   "metadata": {},
   "outputs": [],
   "source": []
  },
  {
   "cell_type": "code",
   "execution_count": null,
   "metadata": {},
   "outputs": [],
   "source": []
  },
  {
   "cell_type": "code",
   "execution_count": null,
   "metadata": {},
   "outputs": [],
   "source": []
  },
  {
   "cell_type": "code",
   "execution_count": null,
   "metadata": {},
   "outputs": [],
   "source": []
  },
  {
   "cell_type": "code",
   "execution_count": null,
   "metadata": {},
   "outputs": [],
   "source": []
  },
  {
   "cell_type": "code",
   "execution_count": null,
   "metadata": {},
   "outputs": [],
   "source": []
  },
  {
   "cell_type": "code",
   "execution_count": null,
   "metadata": {},
   "outputs": [],
   "source": []
  },
  {
   "cell_type": "code",
   "execution_count": null,
   "metadata": {},
   "outputs": [],
   "source": []
  },
  {
   "cell_type": "code",
   "execution_count": null,
   "metadata": {},
   "outputs": [],
   "source": []
  },
  {
   "cell_type": "code",
   "execution_count": null,
   "metadata": {},
   "outputs": [],
   "source": []
  },
  {
   "cell_type": "code",
   "execution_count": null,
   "metadata": {},
   "outputs": [],
   "source": []
  },
  {
   "cell_type": "code",
   "execution_count": null,
   "metadata": {},
   "outputs": [],
   "source": []
  },
  {
   "cell_type": "code",
   "execution_count": null,
   "metadata": {},
   "outputs": [],
   "source": []
  },
  {
   "cell_type": "code",
   "execution_count": null,
   "metadata": {},
   "outputs": [],
   "source": []
  },
  {
   "cell_type": "code",
   "execution_count": null,
   "metadata": {},
   "outputs": [],
   "source": []
  },
  {
   "cell_type": "code",
   "execution_count": null,
   "metadata": {},
   "outputs": [],
   "source": []
  },
  {
   "cell_type": "code",
   "execution_count": null,
   "metadata": {},
   "outputs": [],
   "source": []
  },
  {
   "cell_type": "code",
   "execution_count": null,
   "metadata": {},
   "outputs": [],
   "source": []
  },
  {
   "cell_type": "code",
   "execution_count": null,
   "metadata": {},
   "outputs": [],
   "source": []
  },
  {
   "cell_type": "code",
   "execution_count": null,
   "metadata": {},
   "outputs": [],
   "source": []
  },
  {
   "cell_type": "code",
   "execution_count": null,
   "metadata": {},
   "outputs": [],
   "source": []
  },
  {
   "cell_type": "code",
   "execution_count": null,
   "metadata": {},
   "outputs": [],
   "source": []
  },
  {
   "cell_type": "code",
   "execution_count": null,
   "metadata": {},
   "outputs": [],
   "source": []
  },
  {
   "cell_type": "code",
   "execution_count": null,
   "metadata": {},
   "outputs": [],
   "source": []
  },
  {
   "cell_type": "code",
   "execution_count": null,
   "metadata": {},
   "outputs": [],
   "source": []
  },
  {
   "cell_type": "code",
   "execution_count": null,
   "metadata": {},
   "outputs": [],
   "source": []
  },
  {
   "cell_type": "code",
   "execution_count": null,
   "metadata": {},
   "outputs": [],
   "source": []
  },
  {
   "cell_type": "code",
   "execution_count": null,
   "metadata": {},
   "outputs": [],
   "source": []
  },
  {
   "cell_type": "code",
   "execution_count": null,
   "metadata": {},
   "outputs": [],
   "source": []
  },
  {
   "cell_type": "code",
   "execution_count": null,
   "metadata": {},
   "outputs": [],
   "source": []
  },
  {
   "cell_type": "code",
   "execution_count": null,
   "metadata": {},
   "outputs": [],
   "source": []
  },
  {
   "cell_type": "code",
   "execution_count": null,
   "metadata": {},
   "outputs": [],
   "source": []
  },
  {
   "cell_type": "code",
   "execution_count": null,
   "metadata": {},
   "outputs": [],
   "source": []
  },
  {
   "cell_type": "code",
   "execution_count": null,
   "metadata": {},
   "outputs": [],
   "source": []
  },
  {
   "cell_type": "code",
   "execution_count": null,
   "metadata": {},
   "outputs": [],
   "source": []
  },
  {
   "cell_type": "code",
   "execution_count": null,
   "metadata": {},
   "outputs": [],
   "source": []
  },
  {
   "cell_type": "code",
   "execution_count": null,
   "metadata": {},
   "outputs": [],
   "source": []
  },
  {
   "cell_type": "code",
   "execution_count": null,
   "metadata": {},
   "outputs": [],
   "source": []
  },
  {
   "cell_type": "code",
   "execution_count": null,
   "metadata": {},
   "outputs": [],
   "source": []
  },
  {
   "cell_type": "code",
   "execution_count": null,
   "metadata": {},
   "outputs": [],
   "source": []
  },
  {
   "cell_type": "code",
   "execution_count": null,
   "metadata": {},
   "outputs": [],
   "source": []
  },
  {
   "cell_type": "code",
   "execution_count": null,
   "metadata": {},
   "outputs": [],
   "source": []
  },
  {
   "cell_type": "code",
   "execution_count": null,
   "metadata": {},
   "outputs": [],
   "source": []
  },
  {
   "cell_type": "code",
   "execution_count": null,
   "metadata": {},
   "outputs": [],
   "source": []
  },
  {
   "cell_type": "code",
   "execution_count": null,
   "metadata": {},
   "outputs": [],
   "source": []
  },
  {
   "cell_type": "code",
   "execution_count": null,
   "metadata": {},
   "outputs": [],
   "source": []
  },
  {
   "cell_type": "code",
   "execution_count": null,
   "metadata": {},
   "outputs": [],
   "source": []
  },
  {
   "cell_type": "code",
   "execution_count": null,
   "metadata": {},
   "outputs": [],
   "source": []
  },
  {
   "cell_type": "code",
   "execution_count": null,
   "metadata": {},
   "outputs": [],
   "source": []
  },
  {
   "cell_type": "code",
   "execution_count": null,
   "metadata": {},
   "outputs": [],
   "source": []
  },
  {
   "cell_type": "code",
   "execution_count": null,
   "metadata": {},
   "outputs": [],
   "source": []
  },
  {
   "cell_type": "code",
   "execution_count": 7,
   "metadata": {},
   "outputs": [],
   "source": [
    "from sklearn.feature_extraction.text import CountVectorizer"
   ]
  },
  {
   "cell_type": "code",
   "execution_count": 3,
   "metadata": {},
   "outputs": [],
   "source": [
    "#RE that does split on whitespace\n",
    "TOKEN_BASIC = '\\\\S+(?=\\\\s+)'\n",
    "\n",
    "#Replace NaN values by Empty String"
   ]
  }
 ],
 "metadata": {
  "kernelspec": {
   "display_name": "Python 3",
   "language": "python",
   "name": "python3"
  },
  "language_info": {
   "codemirror_mode": {
    "name": "ipython",
    "version": 3
   },
   "file_extension": ".py",
   "mimetype": "text/x-python",
   "name": "python",
   "nbconvert_exporter": "python",
   "pygments_lexer": "ipython3",
   "version": "3.6.5"
  }
 },
 "nbformat": 4,
 "nbformat_minor": 2
}
