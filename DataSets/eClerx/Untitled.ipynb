{
 "cells": [
  {
   "cell_type": "markdown",
   "metadata": {},
   "source": [
    "# Winning Opportunity prediction"
   ]
  },
  {
   "cell_type": "markdown",
   "metadata": {},
   "source": [
    "## Importing basic libraries"
   ]
  },
  {
   "cell_type": "code",
   "execution_count": 1,
   "metadata": {
    "scrolled": true
   },
   "outputs": [],
   "source": [
    "import pandas as pd\n",
    "from sklearn.model_selection import train_test_split\n",
    "from sklearn.ensemble import RandomForestClassifier\n",
    "from sklearn.metrics import accuracy_score\n",
    "import warnings\n",
    "warnings.filterwarnings('ignore')"
   ]
  },
  {
   "cell_type": "markdown",
   "metadata": {},
   "source": [
    "## Loading Data"
   ]
  },
  {
   "cell_type": "code",
   "execution_count": 2,
   "metadata": {
    "scrolled": true
   },
   "outputs": [],
   "source": [
    "opportunities_original = pd.read_csv('Opportunity.csv', encoding = 'unicode_escape')\n",
    "opportunities = opportunities_original.copy()"
   ]
  },
  {
   "cell_type": "code",
   "execution_count": 3,
   "metadata": {
    "scrolled": true
   },
   "outputs": [
    {
     "name": "stdout",
     "output_type": "stream",
     "text": [
      "<class 'pandas.core.frame.DataFrame'>\n",
      "RangeIndex: 4181 entries, 0 to 4180\n",
      "Data columns (total 185 columns):\n",
      "Account_Development_Rep__c                941 non-null object\n",
      "AccountId                                 4181 non-null object\n",
      "Americas_Partner_Select__c                1 non-null object\n",
      "Amount                                    3431 non-null float64\n",
      "Amount_Billed_To_Date__c                  4181 non-null int64\n",
      "Approved_Discount__c                      4181 non-null int64\n",
      "Audit_Flag__c                             0 non-null float64\n",
      "Bill_To_Customer__c                       222 non-null object\n",
      "Business_Issues__c                        477 non-null object\n",
      "CampaignId                                168 non-null object\n",
      "CDR__c                                    0 non-null float64\n",
      "CDT_Next_Step__c                          0 non-null float64\n",
      "CDT_Next_Step_Due_Date__c                 0 non-null float64\n",
      "CDT_Owner__c                              13 non-null object\n",
      "CDT_Status__c                             0 non-null float64\n",
      "Closed_Lost_Reason__c                     1396 non-null object\n",
      "CloseDate                                 4181 non-null object\n",
      "Collaboration_Primary_Interest__c         4181 non-null bool\n",
      "Connect_Sales_Decline_Reason__c           4 non-null object\n",
      "CreatedById                               4181 non-null object\n",
      "CreatedDate                               4181 non-null object\n",
      "Credit_Card_Cardholders_Name__c           1 non-null object\n",
      "Credit_Card_CVV__c                        0 non-null float64\n",
      "Credit_Card_Expiration_Date__c            2 non-null object\n",
      "Credit_Card_Number__c                     1 non-null object\n",
      "Credit_Card_Type__c                       1 non-null object\n",
      "CurrencyIsoCode                           4181 non-null object\n",
      "Current_State__c                          998 non-null object\n",
      "Dataset_ID__c                             0 non-null float64\n",
      "Days_in_Quarter__c                        4181 non-null int64\n",
      "Deal_Registration_Number__c               0 non-null float64\n",
      "Description                               427 non-null object\n",
      "Discount_Approved_By__c                   0 non-null float64\n",
      "Due_Date__c                               2357 non-null object\n",
      "Email_Domain__c                           172 non-null object\n",
      "End_Customer_Email__c                     237 non-null object\n",
      "End_Customer_Email_Domain__c              237 non-null object\n",
      "End_Customer_Region__c                    1926 non-null object\n",
      "End_Customer_Sub_Region__c                1630 non-null object\n",
      "Engagement_Score__c                       6 non-null float64\n",
      "ExpectedRevenue                           3431 non-null float64\n",
      "Fill_out_Connect_Survey_later__c          4181 non-null bool\n",
      "Fiscal                                    4181 non-null object\n",
      "FiscalQuarter                             4181 non-null int64\n",
      "FiscalYear                                4181 non-null int64\n",
      "ForecastCategory                          4181 non-null object\n",
      "ForecastCategoryName                      4181 non-null object\n",
      "Freight_Shipping__c                       243 non-null float64\n",
      "HasOpportunityLineItem                    4181 non-null bool\n",
      "Id                                        4181 non-null object\n",
      "Impending_Event__c                        578 non-null object\n",
      "Influencer__c                             0 non-null float64\n",
      "Innovation_Team__c                        2 non-null object\n",
      "Invoice_Sub_Total__c                      172 non-null float64\n",
      "InvoiceTotalIncludingVATFreight__c        4181 non-null float64\n",
      "Is_Budget_Approved__c                     35 non-null object\n",
      "Is_there_an_Executive_Sponsor__c          43 non-null object\n",
      "Is_this_budgeted__c                       241 non-null object\n",
      "is1__Chat_ID__c                           0 non-null float64\n",
      "is1__Mail_ID__c                           0 non-null float64\n",
      "IsClosed                                  4181 non-null bool\n",
      "IsDeleted                                 4181 non-null bool\n",
      "IsPrivate                                 4181 non-null bool\n",
      "IsSplit                                   4181 non-null bool\n",
      "IsWon                                     4181 non-null bool\n",
      "IT_Approval__c                            34 non-null object\n",
      "l_Is_there_an_Executive_Sponsor__c        253 non-null object\n",
      "LastActivityDate                          822 non-null object\n",
      "LastModifiedById                          4181 non-null object\n",
      "LastModifiedDate                          4181 non-null object\n",
      "LastReferencedDate                        0 non-null float64\n",
      "LastViewedDate                            0 non-null float64\n",
      "LeadSource                                589 non-null object\n",
      "License_Certificate_Number__c             0 non-null float64\n",
      "LineItemCount__c                          4181 non-null int64\n",
      "Mapping_Primary_Interest__c               4181 non-null bool\n",
      "Master_Subscription_Agreement__c          36 non-null object\n",
      "Max_Discount__c                           993 non-null float64\n",
      "Memo__c                                   142 non-null object\n",
      "MJ_Campaign__c                            7 non-null object\n",
      "MJ_Lead_ID__c                             1 non-null float64\n",
      "MJE_OrderNumber__c                        7 non-null float64\n",
      "Name                                      4181 non-null object\n",
      "Netsuite_Approved_By__c                   230 non-null object\n",
      "Netsuite_Credit_Memo__c                   9 non-null float64\n",
      "Netsuite_Credit_Memo_ID__c                9 non-null float64\n",
      "Netsuite_Invoice__c                       211 non-null float64\n",
      "Netsuite_Invoice_ID__c                    211 non-null float64\n",
      "Netsuite_Opportunity__c                   201 non-null float64\n",
      "Netsuite_Opportunity_ID__c                201 non-null float64\n",
      "Netsuite_Previous_Contract_ID__c          0 non-null float64\n",
      "Netsuite_Previous_Contract_Name__c        0 non-null float64\n",
      "Netsuite_Return_Authorization__c          8 non-null float64\n",
      "Netsuite_Return_Authorization_ID__c       8 non-null float64\n",
      "Netsuite_Sales_Order__c                   241 non-null float64\n",
      "Netsuite_Sales_Order_ID__c                224 non-null float64\n",
      "Netsuite_Sales_Rep__c                     3 non-null object\n",
      "Netsuite_Transaction_Type__c              203 non-null object\n",
      "NEW_Total_ACV__c                          4181 non-null float64\n",
      "NextStep                                  2519 non-null object\n",
      "Non_Disclosure_Agreement__c               39 non-null object\n",
      "Opportunity_18_Digit_ID__c                4181 non-null object\n",
      "Opportunity_Owner_Manager_Mail__c         258 non-null object\n",
      "Opportunity_Plan__c                       0 non-null float64\n",
      "Order_Form_Status__c                      34 non-null object\n",
      "OwnerId                                   4181 non-null object\n",
      "Partner__c                                3 non-null object\n",
      "Partner_1__c                              0 non-null float64\n",
      "Partner_2__c                              0 non-null float64\n",
      "Partner_3__c                              0 non-null float64\n",
      "Partner_City__c                           0 non-null float64\n",
      "Partner_Company_Name__c                   0 non-null float64\n",
      "Partner_Country__c                        0 non-null float64\n",
      "Partner_Deal_Probability_of_Closure__c    0 non-null float64\n",
      "Partner_Deal_Size_in_US__c                11 non-null float64\n",
      "Partner_Email__c                          0 non-null float64\n",
      "Partner_Expected_Deal_Closure_Date__c     0 non-null float64\n",
      "Partner_First_Name__c                     0 non-null float64\n",
      "Partner_Last_Name__c                      0 non-null float64\n",
      "Partner_Lead_Description__c               0 non-null float64\n",
      "Partner_Lead_ID__c                        0 non-null float64\n",
      "Partner_Phone__c                          0 non-null float64\n",
      "Partner_Promo_Code__c                     0 non-null float64\n",
      "Partner_State_Province__c                 0 non-null float64\n",
      "Partner_Street_Address__c                 0 non-null float64\n",
      "Partner_Website_URL__c                    0 non-null float64\n",
      "Partner_Zip_Postal_Code__c                1 non-null object\n",
      "Payment_Method__c                         633 non-null object\n",
      "PO__c                                     189 non-null object\n",
      "Pricebook2Id                              3456 non-null object\n",
      "Probability                               4181 non-null int64\n",
      "Product_Issues__c                         472 non-null object\n",
      "Promo_Code__c                             2 non-null object\n",
      "PushCount__c                              4180 non-null float64\n",
      "Quote_Expiration_Date__c                  15 non-null object\n",
      "Quote_Number_Synced__c                    0 non-null float64\n",
      "Reconciliation_Check__c                   4181 non-null bool\n",
      "RecordTypeId                              4181 non-null object\n",
      "Reference_Number__c                       13 non-null object\n",
      "Rejection_reason__c                       9 non-null object\n",
      "Renewal_at_Risk__c                        4181 non-null bool\n",
      "Renewal_Opportunity__c                    1 non-null object\n",
      "Reporting_Account__c                      172 non-null object\n",
      "Return_Reason__c                          0 non-null float64\n",
      "Return_Transaction__c                     4181 non-null bool\n",
      "roll_up_product_category__c               3396 non-null object\n",
      "Roll_Up_Product_Family__c                 3392 non-null object\n",
      "Sales_Channel__c                          4159 non-null object\n",
      "Sales_Order_Type__c                       93 non-null object\n",
      "SDR__c                                    1 non-null object\n",
      "Services_Contact__c                       0 non-null float64\n",
      "Signature_Process_Description__c          477 non-null object\n",
      "Spigit_Channel_Partner__c                 250 non-null object\n",
      "Spigit_Channel_Type__c                    2862 non-null object\n",
      "Spigit_Community_Type__c                  2905 non-null object\n",
      "Spigit_Description__c                     2443 non-null object\n",
      "Spigit_Lost_Reason__c                     373 non-null object\n",
      "Spigit_Opportunity_ID__c                  3046 non-null object\n",
      "Spigit_Opportunity_Number__c              3046 non-null float64\n",
      "Spigit_Product_Type__c                    2844 non-null object\n",
      "Spigit_Rep_Assesment__c                   2882 non-null object\n",
      "Spigit_Stage__c                           3046 non-null object\n",
      "StageName                                 4181 non-null object\n",
      "Statement_of_Work__c                      31 non-null object\n",
      "SyncedQuoteId                             0 non-null float64\n",
      "SystemModstamp                            4181 non-null object\n",
      "Tax_VAT__c                                243 non-null float64\n",
      "Total_ACV__c                              4181 non-null float64\n",
      "Total_Connect_Seats__c                    4181 non-null int64\n",
      "Total_Customer_Stories__c                 4181 non-null int64\n",
      "Total_MindManager_Seats__c                4181 non-null int64\n",
      "Total_MSAs__c                             4181 non-null int64\n",
      "Total_Spigit_Consulting__c                4181 non-null float64\n",
      "Total_Spigit_Consulting_old__c            4096 non-null float64\n",
      "Total_Spigit_Subscriptions__c             4181 non-null float64\n",
      "Total_Spigit_Subscriptions_old__c         4096 non-null float64\n",
      "Total_Subscriptions__c                    4181 non-null int64\n",
      "TotalOpportunityQuantity                  3429 non-null float64\n",
      "Type                                      1460 non-null object\n",
      "Upgrade_Opportunity__c                    4181 non-null object\n",
      "Vendor_Set_up_Complete__c                 33 non-null object\n",
      "What_Happened_Last__c                     698 non-null object\n",
      "What_Happens_Next__c                      345 non-null object\n",
      "What_is_major_risk__c                     482 non-null object\n",
      "Who_signs_contracts__c                    480 non-null object\n",
      "dtypes: bool(12), float64(70), int64(12), object(91)\n",
      "memory usage: 5.6+ MB\n"
     ]
    }
   ],
   "source": [
    "opportunities.info(verbose=True, null_counts=True)"
   ]
  },
  {
   "cell_type": "code",
   "execution_count": 4,
   "metadata": {},
   "outputs": [
    {
     "data": {
      "text/plain": [
       "Account_Development_Rep__c           3240\n",
       "AccountId                               0\n",
       "Americas_Partner_Select__c           4180\n",
       "Amount                                750\n",
       "Amount_Billed_To_Date__c                0\n",
       "Approved_Discount__c                    0\n",
       "Audit_Flag__c                        4181\n",
       "Bill_To_Customer__c                  3959\n",
       "Business_Issues__c                   3704\n",
       "CampaignId                           4013\n",
       "CDR__c                               4181\n",
       "CDT_Next_Step__c                     4181\n",
       "CDT_Next_Step_Due_Date__c            4181\n",
       "CDT_Owner__c                         4168\n",
       "CDT_Status__c                        4181\n",
       "Closed_Lost_Reason__c                2785\n",
       "CloseDate                               0\n",
       "Collaboration_Primary_Interest__c       0\n",
       "Connect_Sales_Decline_Reason__c      4177\n",
       "CreatedById                             0\n",
       "CreatedDate                             0\n",
       "Credit_Card_Cardholders_Name__c      4180\n",
       "Credit_Card_CVV__c                   4181\n",
       "Credit_Card_Expiration_Date__c       4179\n",
       "Credit_Card_Number__c                4180\n",
       "Credit_Card_Type__c                  4180\n",
       "CurrencyIsoCode                         0\n",
       "Current_State__c                     3183\n",
       "Dataset_ID__c                        4181\n",
       "Days_in_Quarter__c                      0\n",
       "                                     ... \n",
       "Spigit_Description__c                1738\n",
       "Spigit_Lost_Reason__c                3808\n",
       "Spigit_Opportunity_ID__c             1135\n",
       "Spigit_Opportunity_Number__c         1135\n",
       "Spigit_Product_Type__c               1337\n",
       "Spigit_Rep_Assesment__c              1299\n",
       "Spigit_Stage__c                      1135\n",
       "StageName                               0\n",
       "Statement_of_Work__c                 4150\n",
       "SyncedQuoteId                        4181\n",
       "SystemModstamp                          0\n",
       "Tax_VAT__c                           3938\n",
       "Total_ACV__c                            0\n",
       "Total_Connect_Seats__c                  0\n",
       "Total_Customer_Stories__c               0\n",
       "Total_MindManager_Seats__c              0\n",
       "Total_MSAs__c                           0\n",
       "Total_Spigit_Consulting__c              0\n",
       "Total_Spigit_Consulting_old__c         85\n",
       "Total_Spigit_Subscriptions__c           0\n",
       "Total_Spigit_Subscriptions_old__c      85\n",
       "Total_Subscriptions__c                  0\n",
       "TotalOpportunityQuantity              752\n",
       "Type                                 2721\n",
       "Upgrade_Opportunity__c                  0\n",
       "Vendor_Set_up_Complete__c            4148\n",
       "What_Happened_Last__c                3483\n",
       "What_Happens_Next__c                 3836\n",
       "What_is_major_risk__c                3699\n",
       "Who_signs_contracts__c               3701\n",
       "Length: 185, dtype: int64"
      ]
     },
     "execution_count": 4,
     "metadata": {},
     "output_type": "execute_result"
    }
   ],
   "source": [
    "opportunities.isnull().sum()"
   ]
  },
  {
   "cell_type": "markdown",
   "metadata": {},
   "source": [
    "## Data Preparation"
   ]
  },
  {
   "cell_type": "code",
   "execution_count": 5,
   "metadata": {
    "scrolled": true
   },
   "outputs": [],
   "source": [
    "opportunities.columns.tolist()\n",
    "\n",
    "req_features = ['Amount', 'Days_in_Quarter__c', 'End_Customer_Region__c', 'ExpectedRevenue', 'FiscalQuarter', \n",
    "                'FiscalYear', 'ForecastCategory', 'ForecastCategoryName', 'HasOpportunityLineItem', \n",
    "                'InvoiceTotalIncludingVATFreight__c', 'IsClosed', 'IsSplit', 'LineItemCount__c', 'NEW_Total_ACV__c', \n",
    "                'Probability', 'PushCount__c', 'Spigit_Channel_Type__c', 'Spigit_Community_Type__c', \n",
    "                'Spigit_Rep_Assesment__c', 'Total_ACV__c', 'Total_Spigit_Consulting__c', 'Total_Spigit_Consulting_old__c', \n",
    "                'Total_Spigit_Subscriptions__c', 'Total_Spigit_Subscriptions_old__c', 'Total_Subscriptions__c', \n",
    "                'TotalOpportunityQuantity', 'Type', 'IsWon']\n",
    "\n",
    "opportunities = opportunities[req_features]"
   ]
  },
  {
   "cell_type": "code",
   "execution_count": null,
   "metadata": {
    "scrolled": true
   },
   "outputs": [],
   "source": []
  },
  {
   "cell_type": "code",
   "execution_count": null,
   "metadata": {
    "scrolled": true
   },
   "outputs": [],
   "source": []
  },
  {
   "cell_type": "code",
   "execution_count": null,
   "metadata": {
    "scrolled": true
   },
   "outputs": [],
   "source": []
  },
  {
   "cell_type": "markdown",
   "metadata": {
    "scrolled": false
   },
   "source": [
    "### Dealing with missing values"
   ]
  },
  {
   "cell_type": "code",
   "execution_count": 6,
   "metadata": {
    "scrolled": true
   },
   "outputs": [],
   "source": [
    "replace_with_MISSING = ['End_Customer_Region__c', 'Spigit_Channel_Type__c', 'Spigit_Community_Type__c', \n",
    "                        'Spigit_Rep_Assesment__c', 'Type']\n",
    "opportunities[replace_with_MISSING] = opportunities[replace_with_MISSING].fillna('MISSING')\n",
    "\n",
    "\n",
    "replace_with_mean = ['Amount', 'End_Customer_Region__c', 'ExpectedRevenue', 'PushCount__c', 'Total_Spigit_Consulting_old__c', \n",
    "                     'Total_Spigit_Subscriptions_old__c', 'TotalOpportunityQuantity']\n",
    "opportunities[replace_with_mean] = opportunities[replace_with_mean].fillna(opportunities[replace_with_mean].mean())"
   ]
  },
  {
   "cell_type": "code",
   "execution_count": null,
   "metadata": {
    "scrolled": true
   },
   "outputs": [],
   "source": []
  },
  {
   "cell_type": "markdown",
   "metadata": {},
   "source": [
    "## Scaling Data"
   ]
  },
  {
   "cell_type": "code",
   "execution_count": 7,
   "metadata": {},
   "outputs": [],
   "source": [
    "from sklearn.preprocessing import StandardScaler\n",
    "scaler = StandardScaler()"
   ]
  },
  {
   "cell_type": "code",
   "execution_count": 8,
   "metadata": {},
   "outputs": [],
   "source": [
    "numerics = ['int64', 'float64']\n",
    "newdf = opportunities.select_dtypes(include=numerics)\n",
    "numerical_colums = newdf.columns\n",
    "opportunities[numerical_colums] = scaler.fit_transform(opportunities[numerical_colums])"
   ]
  },
  {
   "cell_type": "markdown",
   "metadata": {},
   "source": [
    "## Converting object to dummies"
   ]
  },
  {
   "cell_type": "code",
   "execution_count": 9,
   "metadata": {},
   "outputs": [],
   "source": [
    "newdf_O = opportunities.select_dtypes(include='object')\n",
    "object_columns = newdf_O.columns\n",
    "\n",
    "for i in object_columns : \n",
    "    opportunities[i] = opportunities[i].astype('category')\n",
    "    \n",
    "opportunities = pd.get_dummies(opportunities, drop_first=True)"
   ]
  },
  {
   "cell_type": "code",
   "execution_count": null,
   "metadata": {},
   "outputs": [],
   "source": []
  },
  {
   "cell_type": "code",
   "execution_count": null,
   "metadata": {},
   "outputs": [],
   "source": []
  },
  {
   "cell_type": "markdown",
   "metadata": {},
   "source": [
    "## For Open Opportunities"
   ]
  },
  {
   "cell_type": "code",
   "execution_count": 10,
   "metadata": {},
   "outputs": [],
   "source": [
    "open_opportunities = opportunities.copy()"
   ]
  },
  {
   "cell_type": "markdown",
   "metadata": {},
   "source": [
    "## Closed opportunities"
   ]
  },
  {
   "cell_type": "code",
   "execution_count": 11,
   "metadata": {},
   "outputs": [],
   "source": [
    "opportunities = opportunities[opportunities.IsClosed == True]"
   ]
  },
  {
   "cell_type": "markdown",
   "metadata": {},
   "source": [
    "#### Splitting data into Train-Test"
   ]
  },
  {
   "cell_type": "code",
   "execution_count": 12,
   "metadata": {},
   "outputs": [],
   "source": [
    "X = opportunities.loc[:, opportunities.columns != 'IsWon']\n",
    "y = opportunities['IsWon']\n",
    "X_train, X_test, y_train, y_test = train_test_split(X, y, test_size=0.25, random_state=0)"
   ]
  },
  {
   "cell_type": "markdown",
   "metadata": {},
   "source": [
    "#### Applying Random Forest"
   ]
  },
  {
   "cell_type": "code",
   "execution_count": 13,
   "metadata": {},
   "outputs": [
    {
     "data": {
      "text/plain": [
       "RandomForestClassifier(bootstrap=True, class_weight=None, criterion='gini',\n",
       "            max_depth=None, max_features='auto', max_leaf_nodes=None,\n",
       "            min_impurity_decrease=0.0, min_impurity_split=None,\n",
       "            min_samples_leaf=1, min_samples_split=2,\n",
       "            min_weight_fraction_leaf=0.0, n_estimators=10000, n_jobs=1,\n",
       "            oob_score=False, random_state=0, verbose=0, warm_start=False)"
      ]
     },
     "execution_count": 13,
     "metadata": {},
     "output_type": "execute_result"
    }
   ],
   "source": [
    "rf = RandomForestClassifier(n_estimators=10000, random_state=0)\n",
    "rf.fit(X_train, y_train)"
   ]
  },
  {
   "cell_type": "markdown",
   "metadata": {},
   "source": [
    "#### Model Accuracy"
   ]
  },
  {
   "cell_type": "code",
   "execution_count": 14,
   "metadata": {},
   "outputs": [
    {
     "data": {
      "text/plain": [
       "1.0"
      ]
     },
     "execution_count": 14,
     "metadata": {},
     "output_type": "execute_result"
    }
   ],
   "source": [
    "y_pred = rf.predict(X_test)\n",
    "accuracy_score(y_test, y_pred)"
   ]
  },
  {
   "cell_type": "markdown",
   "metadata": {},
   "source": [
    "## Open Opportunities"
   ]
  },
  {
   "cell_type": "code",
   "execution_count": 15,
   "metadata": {},
   "outputs": [],
   "source": [
    "open_opportunities = open_opportunities[open_opportunities.IsClosed == False]"
   ]
  },
  {
   "cell_type": "code",
   "execution_count": 16,
   "metadata": {},
   "outputs": [],
   "source": [
    "X_open = open_opportunities.loc[:, open_opportunities.columns != 'IsWon']\n",
    "y_open = open_opportunities['IsWon']"
   ]
  },
  {
   "cell_type": "code",
   "execution_count": 17,
   "metadata": {},
   "outputs": [
    {
     "data": {
      "text/plain": [
       "0.9553903345724907"
      ]
     },
     "execution_count": 17,
     "metadata": {},
     "output_type": "execute_result"
    }
   ],
   "source": [
    "y_pred_open = rf.predict(X_open)\n",
    "accuracy_score(y_open, y_pred_open)"
   ]
  },
  {
   "cell_type": "markdown",
   "metadata": {},
   "source": [
    "# Exporting Data"
   ]
  },
  {
   "cell_type": "markdown",
   "metadata": {},
   "source": [
    "#### Imput Data"
   ]
  },
  {
   "cell_type": "code",
   "execution_count": 20,
   "metadata": {},
   "outputs": [],
   "source": [
    "X_train.to_csv('input.csv')"
   ]
  },
  {
   "cell_type": "code",
   "execution_count": 21,
   "metadata": {},
   "outputs": [],
   "source": [
    "closed_predicted = pd.DataFrame(y_pred)\n",
    "val_df = pd.concat([X_test.reset_index(drop=True), closed_predicted], axis=1)\n",
    "val_df.to_csv('closedVal.csv')"
   ]
  },
  {
   "cell_type": "code",
   "execution_count": 22,
   "metadata": {},
   "outputs": [],
   "source": [
    "open_predicted = pd.DataFrame(y_pred_open)\n",
    "open_deals_validation = pd.concat([X_open.reset_index(drop=True), open_predicted], axis=1)\n",
    "open_deals_validation.to_csv('openVal.csv')"
   ]
  }
 ],
 "metadata": {
  "kernelspec": {
   "display_name": "Python 3",
   "language": "python",
   "name": "python3"
  },
  "language_info": {
   "codemirror_mode": {
    "name": "ipython",
    "version": 3
   },
   "file_extension": ".py",
   "mimetype": "text/x-python",
   "name": "python",
   "nbconvert_exporter": "python",
   "pygments_lexer": "ipython3",
   "version": "3.6.5"
  }
 },
 "nbformat": 4,
 "nbformat_minor": 2
}
