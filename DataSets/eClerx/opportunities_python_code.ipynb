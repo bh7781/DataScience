{
 "cells": [
  {
   "cell_type": "markdown",
   "metadata": {},
   "source": [
    "### Libraries"
   ]
  },
  {
   "cell_type": "code",
   "execution_count": 1,
   "metadata": {},
   "outputs": [],
   "source": [
    "import pandas as pd\n",
    "import matplotlib.pyplot as plt\n",
    "import seaborn as sns\n",
    "from sklearn.model_selection import train_test_split\n",
    "from sklearn.ensemble import RandomForestClassifier\n",
    "from sklearn.metrics import accuracy_score\n",
    "import warnings\n",
    "warnings.filterwarnings('ignore')"
   ]
  },
  {
   "cell_type": "markdown",
   "metadata": {},
   "source": [
    "### Importing Data"
   ]
  },
  {
   "cell_type": "code",
   "execution_count": 2,
   "metadata": {},
   "outputs": [],
   "source": [
    "opportunities_original = pd.read_csv('Opportunity.csv', encoding = 'unicode_escape')\n",
    "\n",
    "features_to_keep = ['Amount', 'Days_in_Quarter__c', 'ExpectedRevenue',\n",
    "                    'FiscalQuarter', 'ForecastCategory', 'HasOpportunityLineItem', 'InvoiceTotalIncludingVATFreight__c', \n",
    "                    'IsClosed', 'IsWon', 'LineItemCount__c', 'NEW_Total_ACV__c', 'OwnerId', 'Probability', \n",
    "                    'Spigit_Rep_Assesment__c', 'Spigit_Stage__c', 'StageName']\n",
    "\n",
    "opportunities = opportunities_original.copy()\n",
    "opportunities = opportunities[features_to_keep]"
   ]
  },
  {
   "cell_type": "markdown",
   "metadata": {},
   "source": [
    "### Data Processing"
   ]
  },
  {
   "cell_type": "code",
   "execution_count": 3,
   "metadata": {},
   "outputs": [],
   "source": [
    "#Converting into categories\n",
    "opportunities.StageName = opportunities.StageName.astype('category')\n",
    "opportunities.Spigit_Stage__c = opportunities.Spigit_Stage__c.astype('category')\n",
    "opportunities.Spigit_Rep_Assesment__c = opportunities.Spigit_Rep_Assesment__c.astype('category')\n",
    "opportunities.OwnerId = opportunities.OwnerId.astype('category')\n",
    "opportunities.OwnerId = opportunities.OwnerId.cat.codes\n",
    "opportunities.ForecastCategory = opportunities.ForecastCategory.astype('category')\n",
    "\n",
    "#Dummies\n",
    "opportunities.StageName = pd.get_dummies(opportunities.StageName)\n",
    "opportunities.Spigit_Stage__c = pd.get_dummies(opportunities.Spigit_Stage__c)\n",
    "opportunities.Spigit_Rep_Assesment__c = pd.get_dummies(opportunities.Spigit_Rep_Assesment__c)\n",
    "opportunities.ForecastCategory = pd.get_dummies(opportunities.ForecastCategory)\n",
    "\n",
    "#Handling Missing values\n",
    "opportunities.Amount = opportunities.Amount.fillna(opportunities.Amount.mean())\n",
    "opportunities.ExpectedRevenue = opportunities.ExpectedRevenue.fillna(opportunities.ExpectedRevenue.mean())"
   ]
  },
  {
   "cell_type": "code",
   "execution_count": 4,
   "metadata": {},
   "outputs": [
    {
     "name": "stdout",
     "output_type": "stream",
     "text": [
      "<class 'pandas.core.frame.DataFrame'>\n",
      "RangeIndex: 4181 entries, 0 to 4180\n",
      "Data columns (total 16 columns):\n",
      "Amount                                4181 non-null float64\n",
      "Days_in_Quarter__c                    4181 non-null int64\n",
      "ExpectedRevenue                       4181 non-null float64\n",
      "FiscalQuarter                         4181 non-null int64\n",
      "ForecastCategory                      4181 non-null uint8\n",
      "HasOpportunityLineItem                4181 non-null bool\n",
      "InvoiceTotalIncludingVATFreight__c    4181 non-null float64\n",
      "IsClosed                              4181 non-null bool\n",
      "IsWon                                 4181 non-null bool\n",
      "LineItemCount__c                      4181 non-null int64\n",
      "NEW_Total_ACV__c                      4181 non-null float64\n",
      "OwnerId                               4181 non-null int8\n",
      "Probability                           4181 non-null int64\n",
      "Spigit_Rep_Assesment__c               4181 non-null uint8\n",
      "Spigit_Stage__c                       4181 non-null uint8\n",
      "StageName                             4181 non-null uint8\n",
      "dtypes: bool(3), float64(4), int64(4), int8(1), uint8(4)\n",
      "memory usage: 294.1 KB\n",
      "None\n",
      "             Amount  Days_in_Quarter__c  ExpectedRevenue  FiscalQuarter  \\\n",
      "count  4.181000e+03         4181.000000     4.181000e+03    4181.000000   \n",
      "mean   7.756175e+04           66.276011     3.216989e+04       2.621622   \n",
      "std    1.042082e+05           27.228756     8.530280e+04       1.109054   \n",
      "min   -1.585270e+05            1.000000    -1.585270e+05       1.000000   \n",
      "25%    3.000000e+04           45.000000     0.000000e+00       2.000000   \n",
      "50%    6.000000e+04           77.000000     7.200000e+03       3.000000   \n",
      "75%    7.756175e+04           90.000000     3.216989e+04       4.000000   \n",
      "max    2.500000e+06           92.000000     2.021100e+06       4.000000   \n",
      "\n",
      "       ForecastCategory  InvoiceTotalIncludingVATFreight__c  LineItemCount__c  \\\n",
      "count       4181.000000                        4.181000e+03       4181.000000   \n",
      "mean           0.018417                        6.364850e+04          1.066013   \n",
      "std            0.134469                        1.083749e+05          0.709434   \n",
      "min            0.000000                       -1.585270e+05          0.000000   \n",
      "25%            0.000000                        9.000000e+03          1.000000   \n",
      "50%            0.000000                        4.500000e+04          1.000000   \n",
      "75%            0.000000                        7.500000e+04          1.000000   \n",
      "max            1.000000                        2.500000e+06          6.000000   \n",
      "\n",
      "       NEW_Total_ACV__c      OwnerId  Probability  Spigit_Rep_Assesment__c  \\\n",
      "count      4.181000e+03  4181.000000  4181.000000              4181.000000   \n",
      "mean       2.860741e+04    41.347764    32.420474                 0.050945   \n",
      "std        7.276264e+04    14.108808    44.093623                 0.219911   \n",
      "min       -1.585270e+05     0.000000     0.000000                 0.000000   \n",
      "25%        0.000000e+00    32.000000     0.000000                 0.000000   \n",
      "50%        0.000000e+00    39.000000     0.000000                 0.000000   \n",
      "75%        4.750000e+04    45.000000   100.000000                 0.000000   \n",
      "max        2.500000e+06    80.000000   100.000000                 1.000000   \n",
      "\n",
      "       Spigit_Stage__c    StageName  \n",
      "count      4181.000000  4181.000000  \n",
      "mean          0.013394     0.160488  \n",
      "std           0.114968     0.367102  \n",
      "min           0.000000     0.000000  \n",
      "25%           0.000000     0.000000  \n",
      "50%           0.000000     0.000000  \n",
      "75%           0.000000     0.000000  \n",
      "max           1.000000     1.000000  \n"
     ]
    }
   ],
   "source": [
    "print(opportunities.info())\n",
    "print(opportunities.describe())"
   ]
  },
  {
   "cell_type": "markdown",
   "metadata": {},
   "source": [
    "### Creating copy of opportunities dataframe for open deals"
   ]
  },
  {
   "cell_type": "code",
   "execution_count": 5,
   "metadata": {},
   "outputs": [],
   "source": [
    "open_opportunities = opportunities.copy()"
   ]
  },
  {
   "cell_type": "markdown",
   "metadata": {},
   "source": [
    "## For Closed opportunities"
   ]
  },
  {
   "cell_type": "code",
   "execution_count": 6,
   "metadata": {},
   "outputs": [],
   "source": [
    "opportunities = opportunities[opportunities.IsClosed == True]"
   ]
  },
  {
   "cell_type": "markdown",
   "metadata": {},
   "source": [
    "#### Splitting Data"
   ]
  },
  {
   "cell_type": "code",
   "execution_count": 7,
   "metadata": {},
   "outputs": [],
   "source": [
    "X = opportunities.loc[:, opportunities.columns != 'IsWon']\n",
    "y = opportunities['IsWon']\n",
    "X_train, X_test, y_train, y_test = train_test_split(X, y, test_size=0.25, random_state=0)"
   ]
  },
  {
   "cell_type": "markdown",
   "metadata": {},
   "source": [
    "#### Random Forest algorithm"
   ]
  },
  {
   "cell_type": "code",
   "execution_count": 8,
   "metadata": {},
   "outputs": [
    {
     "data": {
      "text/plain": [
       "RandomForestClassifier(bootstrap=True, class_weight=None, criterion='gini',\n",
       "            max_depth=None, max_features='auto', max_leaf_nodes=None,\n",
       "            min_impurity_decrease=0.0, min_impurity_split=None,\n",
       "            min_samples_leaf=1, min_samples_split=2,\n",
       "            min_weight_fraction_leaf=0.0, n_estimators=10000, n_jobs=1,\n",
       "            oob_score=False, random_state=0, verbose=0, warm_start=False)"
      ]
     },
     "execution_count": 8,
     "metadata": {},
     "output_type": "execute_result"
    }
   ],
   "source": [
    "rf = RandomForestClassifier(n_estimators=10000, random_state=0)\n",
    "rf.fit(X_train, y_train)"
   ]
  },
  {
   "cell_type": "markdown",
   "metadata": {},
   "source": [
    "#### Identify important features"
   ]
  },
  {
   "cell_type": "code",
   "execution_count": 9,
   "metadata": {},
   "outputs": [
    {
     "name": "stdout",
     "output_type": "stream",
     "text": [
      "('Amount', 0.024721062880907124)\n",
      "('Days_in_Quarter__c', 0.007459375812780178)\n",
      "('ExpectedRevenue', 0.2834060451437956)\n",
      "('FiscalQuarter', 0.001238041640114168)\n",
      "('ForecastCategory', 0.0)\n",
      "('HasOpportunityLineItem', 0.024028288412055038)\n",
      "('InvoiceTotalIncludingVATFreight__c', 0.02905959777165972)\n",
      "('IsClosed', 0.0)\n",
      "('LineItemCount__c', 0.02487511109386473)\n",
      "('NEW_Total_ACV__c', 0.005698974451708831)\n",
      "('OwnerId', 0.005920863120899692)\n",
      "('Probability', 0.5371922210248334)\n",
      "('Spigit_Rep_Assesment__c', 0.01682078014787047)\n",
      "('Spigit_Stage__c', 0.00015053424884069018)\n",
      "('StageName', 0.03942910425066806)\n"
     ]
    }
   ],
   "source": [
    "for feature in zip(X, rf.feature_importances_):\n",
    "    print(feature)"
   ]
  },
  {
   "cell_type": "markdown",
   "metadata": {},
   "source": [
    "#### Selecting important features and rebuilding Random Forest"
   ]
  },
  {
   "cell_type": "code",
   "execution_count": 10,
   "metadata": {},
   "outputs": [
    {
     "data": {
      "text/plain": [
       "RandomForestClassifier(bootstrap=True, class_weight=None, criterion='gini',\n",
       "            max_depth=None, max_features='auto', max_leaf_nodes=None,\n",
       "            min_impurity_decrease=0.0, min_impurity_split=None,\n",
       "            min_samples_leaf=1, min_samples_split=2,\n",
       "            min_weight_fraction_leaf=0.0, n_estimators=10000, n_jobs=1,\n",
       "            oob_score=False, random_state=0, verbose=0, warm_start=False)"
      ]
     },
     "execution_count": 10,
     "metadata": {},
     "output_type": "execute_result"
    }
   ],
   "source": [
    "features_to_keep_v1 = ['Amount', 'Days_in_Quarter__c', 'ExpectedRevenue',\n",
    "                    'FiscalQuarter', 'HasOpportunityLineItem', 'InvoiceTotalIncludingVATFreight__c', \n",
    "                    'IsClosed', 'IsWon', 'LineItemCount__c', 'NEW_Total_ACV__c', 'OwnerId', 'Probability', \n",
    "                    'Spigit_Rep_Assesment__c', 'StageName']\n",
    "opportunities = opportunities[features_to_keep_v1]\n",
    "\n",
    "opportunities = opportunities[opportunities.IsClosed == True]\n",
    "\n",
    "X = opportunities.loc[:, opportunities.columns != 'IsWon']\n",
    "y = opportunities['IsWon']\n",
    "X_train, X_test, y_train, y_test = train_test_split(X, y, test_size=0.25, random_state=0)\n",
    "\n",
    "rf1 = RandomForestClassifier(n_estimators=10000, random_state=0)\n",
    "rf1.fit(X_train, y_train)"
   ]
  },
  {
   "cell_type": "code",
   "execution_count": 11,
   "metadata": {},
   "outputs": [
    {
     "name": "stdout",
     "output_type": "stream",
     "text": [
      "<class 'pandas.core.frame.DataFrame'>\n"
     ]
    }
   ],
   "source": [
    "print(type(X_train))"
   ]
  },
  {
   "cell_type": "code",
   "execution_count": 12,
   "metadata": {},
   "outputs": [],
   "source": [
    "X_train.to_csv('input_data.csv')"
   ]
  },
  {
   "cell_type": "markdown",
   "metadata": {},
   "source": [
    "### Prediction and Accuracy"
   ]
  },
  {
   "cell_type": "code",
   "execution_count": 13,
   "metadata": {},
   "outputs": [
    {
     "data": {
      "text/plain": [
       "1.0"
      ]
     },
     "execution_count": 13,
     "metadata": {},
     "output_type": "execute_result"
    }
   ],
   "source": [
    "y_pred = rf1.predict(X_test)\n",
    "accuracy_score(y_test, y_pred)"
   ]
  },
  {
   "cell_type": "code",
   "execution_count": 14,
   "metadata": {},
   "outputs": [
    {
     "data": {
      "text/plain": [
       "(844, 13)"
      ]
     },
     "execution_count": 14,
     "metadata": {},
     "output_type": "execute_result"
    }
   ],
   "source": [
    "X_test.shape"
   ]
  },
  {
   "cell_type": "code",
   "execution_count": 15,
   "metadata": {},
   "outputs": [
    {
     "data": {
      "text/plain": [
       "(844, 1)"
      ]
     },
     "execution_count": 15,
     "metadata": {},
     "output_type": "execute_result"
    }
   ],
   "source": [
    "closed_predicted = pd.DataFrame(y_pred)\n",
    "closed_predicted.shape"
   ]
  },
  {
   "cell_type": "code",
   "execution_count": 16,
   "metadata": {},
   "outputs": [],
   "source": [
    "#validation_dataset\n",
    "\n",
    "validation_dataset = pd.concat([X_test.reset_index(drop=True), closed_predicted], axis=1)\n",
    "validation_dataset.to_csv('closed_deals_validation_data.csv')"
   ]
  },
  {
   "cell_type": "markdown",
   "metadata": {},
   "source": [
    "## Open Opportunities"
   ]
  },
  {
   "cell_type": "code",
   "execution_count": 17,
   "metadata": {},
   "outputs": [],
   "source": [
    "open_opportunities = open_opportunities[open_opportunities.IsClosed == False]"
   ]
  },
  {
   "cell_type": "code",
   "execution_count": 18,
   "metadata": {},
   "outputs": [],
   "source": [
    "open_opportunities = open_opportunities[features_to_keep_v1]"
   ]
  },
  {
   "cell_type": "code",
   "execution_count": 19,
   "metadata": {},
   "outputs": [
    {
     "data": {
      "text/plain": [
       "(807, 14)"
      ]
     },
     "execution_count": 19,
     "metadata": {},
     "output_type": "execute_result"
    }
   ],
   "source": [
    "open_opportunities.shape"
   ]
  },
  {
   "cell_type": "code",
   "execution_count": 20,
   "metadata": {},
   "outputs": [],
   "source": [
    "X_open = open_opportunities.loc[:, open_opportunities.columns != 'IsWon']\n",
    "y_open = open_opportunities['IsWon']"
   ]
  },
  {
   "cell_type": "code",
   "execution_count": 21,
   "metadata": {},
   "outputs": [
    {
     "data": {
      "text/plain": [
       "0.9553903345724907"
      ]
     },
     "execution_count": 21,
     "metadata": {},
     "output_type": "execute_result"
    }
   ],
   "source": [
    "y_pred_open = rf1.predict(X_open)\n",
    "accuracy_score(y_open, y_pred_open)"
   ]
  },
  {
   "cell_type": "code",
   "execution_count": 22,
   "metadata": {},
   "outputs": [],
   "source": [
    "open_predicted = pd.DataFrame(y_pred_open)"
   ]
  },
  {
   "cell_type": "code",
   "execution_count": 23,
   "metadata": {},
   "outputs": [],
   "source": [
    "open_deals_validation = pd.concat([X_open.reset_index(drop=True), open_predicted], axis=1)\n",
    "open_deals_validation.to_csv('open_deals_validation_data.csv')"
   ]
  }
 ],
 "metadata": {
  "kernelspec": {
   "display_name": "Python 3",
   "language": "python",
   "name": "python3"
  },
  "language_info": {
   "codemirror_mode": {
    "name": "ipython",
    "version": 3
   },
   "file_extension": ".py",
   "mimetype": "text/x-python",
   "name": "python",
   "nbconvert_exporter": "python",
   "pygments_lexer": "ipython3",
   "version": "3.6.5"
  }
 },
 "nbformat": 4,
 "nbformat_minor": 2
}
