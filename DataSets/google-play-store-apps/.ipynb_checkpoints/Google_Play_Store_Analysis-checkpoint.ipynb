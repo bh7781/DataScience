{
 "cells": [
  {
   "cell_type": "code",
   "execution_count": 1,
   "metadata": {},
   "outputs": [],
   "source": [
    "import pandas as pd"
   ]
  },
  {
   "cell_type": "code",
   "execution_count": 2,
   "metadata": {},
   "outputs": [],
   "source": [
    "play_store_df = pd.read_csv(\"googleplaystore.csv\")"
   ]
  },
  {
   "cell_type": "code",
   "execution_count": 24,
   "metadata": {},
   "outputs": [
    {
     "name": "stdout",
     "output_type": "stream",
     "text": [
      "<class 'pandas.core.frame.DataFrame'>\n",
      "Int64Index: 10839 entries, 0 to 10840\n",
      "Data columns (total 44 columns):\n",
      "App                             10839 non-null object\n",
      "Rating                          9366 non-null float64\n",
      "Reviews                         10839 non-null int64\n",
      "Size                            10839 non-null object\n",
      "Installs                        10839 non-null object\n",
      "Price                           10839 non-null object\n",
      "Content Rating                  10839 non-null object\n",
      "Genres                          10839 non-null object\n",
      "Last Updated                    10839 non-null object\n",
      "Current Ver                     10831 non-null object\n",
      "Android Ver                     10837 non-null object\n",
      "Category_AUTO_AND_VEHICLES      10839 non-null uint8\n",
      "Category_BEAUTY                 10839 non-null uint8\n",
      "Category_BOOKS_AND_REFERENCE    10839 non-null uint8\n",
      "Category_BUSINESS               10839 non-null uint8\n",
      "Category_COMICS                 10839 non-null uint8\n",
      "Category_COMMUNICATION          10839 non-null uint8\n",
      "Category_DATING                 10839 non-null uint8\n",
      "Category_EDUCATION              10839 non-null uint8\n",
      "Category_ENTERTAINMENT          10839 non-null uint8\n",
      "Category_EVENTS                 10839 non-null uint8\n",
      "Category_FAMILY                 10839 non-null uint8\n",
      "Category_FINANCE                10839 non-null uint8\n",
      "Category_FOOD_AND_DRINK         10839 non-null uint8\n",
      "Category_GAME                   10839 non-null uint8\n",
      "Category_HEALTH_AND_FITNESS     10839 non-null uint8\n",
      "Category_HOUSE_AND_HOME         10839 non-null uint8\n",
      "Category_LIBRARIES_AND_DEMO     10839 non-null uint8\n",
      "Category_LIFESTYLE              10839 non-null uint8\n",
      "Category_MAPS_AND_NAVIGATION    10839 non-null uint8\n",
      "Category_MEDICAL                10839 non-null uint8\n",
      "Category_NEWS_AND_MAGAZINES     10839 non-null uint8\n",
      "Category_PARENTING              10839 non-null uint8\n",
      "Category_PERSONALIZATION        10839 non-null uint8\n",
      "Category_PHOTOGRAPHY            10839 non-null uint8\n",
      "Category_PRODUCTIVITY           10839 non-null uint8\n",
      "Category_SHOPPING               10839 non-null uint8\n",
      "Category_SOCIAL                 10839 non-null uint8\n",
      "Category_SPORTS                 10839 non-null uint8\n",
      "Category_TOOLS                  10839 non-null uint8\n",
      "Category_TRAVEL_AND_LOCAL       10839 non-null uint8\n",
      "Category_VIDEO_PLAYERS          10839 non-null uint8\n",
      "Category_WEATHER                10839 non-null uint8\n",
      "Type_Paid                       10839 non-null uint8\n",
      "dtypes: float64(1), int64(1), object(9), uint8(33)\n",
      "memory usage: 1.3+ MB\n"
     ]
    }
   ],
   "source": [
    "play_store_df.info()"
   ]
  },
  {
   "cell_type": "code",
   "execution_count": 4,
   "metadata": {},
   "outputs": [],
   "source": [
    "#Deleting two rows because Type = 'Nan' and '0'\n",
    "\n",
    "play_store_df = play_store_df.drop(play_store_df.index[10472])\n",
    "play_store_df = play_store_df.drop(play_store_df.index[9148])"
   ]
  },
  {
   "cell_type": "code",
   "execution_count": 5,
   "metadata": {},
   "outputs": [
    {
     "name": "stdout",
     "output_type": "stream",
     "text": [
      "Describing App Categories: \n",
      "\n",
      " count      10839\n",
      "unique        33\n",
      "top       FAMILY\n",
      "freq        1971\n",
      "Name: Category, dtype: object \n",
      "\n",
      "\n",
      "\n",
      "\n",
      "Printing unique category values: \n",
      "\n",
      " ['ART_AND_DESIGN' 'AUTO_AND_VEHICLES' 'BEAUTY' 'BOOKS_AND_REFERENCE'\n",
      " 'BUSINESS' 'COMICS' 'COMMUNICATION' 'DATING' 'EDUCATION' 'ENTERTAINMENT'\n",
      " 'EVENTS' 'FINANCE' 'FOOD_AND_DRINK' 'HEALTH_AND_FITNESS' 'HOUSE_AND_HOME'\n",
      " 'LIBRARIES_AND_DEMO' 'LIFESTYLE' 'GAME' 'FAMILY' 'MEDICAL' 'SOCIAL'\n",
      " 'SHOPPING' 'PHOTOGRAPHY' 'SPORTS' 'TRAVEL_AND_LOCAL' 'TOOLS'\n",
      " 'PERSONALIZATION' 'PRODUCTIVITY' 'PARENTING' 'WEATHER' 'VIDEO_PLAYERS'\n",
      " 'NEWS_AND_MAGAZINES' 'MAPS_AND_NAVIGATION'] \n",
      "\n",
      "\n",
      "\n",
      "\n",
      "Category value counts: \n",
      "\n",
      " FAMILY                 1971\n",
      "GAME                   1144\n",
      "TOOLS                   843\n",
      "MEDICAL                 463\n",
      "BUSINESS                460\n",
      "PRODUCTIVITY            424\n",
      "PERSONALIZATION         392\n",
      "COMMUNICATION           387\n",
      "SPORTS                  384\n",
      "LIFESTYLE               382\n",
      "FINANCE                 366\n",
      "HEALTH_AND_FITNESS      341\n",
      "PHOTOGRAPHY             335\n",
      "SOCIAL                  295\n",
      "NEWS_AND_MAGAZINES      283\n",
      "SHOPPING                260\n",
      "TRAVEL_AND_LOCAL        258\n",
      "DATING                  234\n",
      "BOOKS_AND_REFERENCE     231\n",
      "VIDEO_PLAYERS           175\n",
      "EDUCATION               156\n",
      "ENTERTAINMENT           149\n",
      "MAPS_AND_NAVIGATION     137\n",
      "FOOD_AND_DRINK          127\n",
      "HOUSE_AND_HOME           88\n",
      "LIBRARIES_AND_DEMO       85\n",
      "AUTO_AND_VEHICLES        85\n",
      "WEATHER                  82\n",
      "ART_AND_DESIGN           65\n",
      "EVENTS                   64\n",
      "COMICS                   60\n",
      "PARENTING                60\n",
      "BEAUTY                   53\n",
      "Name: Category, dtype: int64\n"
     ]
    }
   ],
   "source": [
    "print('Describing App Categories: \\n\\n', play_store_df.Category.describe(), '\\n\\n\\n\\n')\n",
    "print('Printing unique category values: \\n\\n', play_store_df.Category.unique(), '\\n\\n\\n\\n')\n",
    "print('Category value counts: \\n\\n', play_store_df.Category.value_counts())\n",
    "#play_store_df.Type.unique()\n",
    "#play_store_df.Type.describe()"
   ]
  },
  {
   "cell_type": "code",
   "execution_count": 6,
   "metadata": {},
   "outputs": [],
   "source": [
    "play_store_df.Category = play_store_df.Category.astype('category')\n",
    "play_store_df.Type = play_store_df.Type.astype('category')"
   ]
  },
  {
   "cell_type": "code",
   "execution_count": 7,
   "metadata": {},
   "outputs": [
    {
     "name": "stdout",
     "output_type": "stream",
     "text": [
      "<class 'pandas.core.frame.DataFrame'>\n",
      "Int64Index: 10839 entries, 0 to 10840\n",
      "Data columns (total 13 columns):\n",
      "App               10839 non-null object\n",
      "Category          10839 non-null category\n",
      "Rating            9366 non-null float64\n",
      "Reviews           10839 non-null object\n",
      "Size              10839 non-null object\n",
      "Installs          10839 non-null object\n",
      "Type              10839 non-null category\n",
      "Price             10839 non-null object\n",
      "Content Rating    10839 non-null object\n",
      "Genres            10839 non-null object\n",
      "Last Updated      10839 non-null object\n",
      "Current Ver       10831 non-null object\n",
      "Android Ver       10837 non-null object\n",
      "dtypes: category(2), float64(1), object(10)\n",
      "memory usage: 1.0+ MB\n"
     ]
    }
   ],
   "source": [
    "play_store_df.info()"
   ]
  },
  {
   "cell_type": "code",
   "execution_count": 8,
   "metadata": {},
   "outputs": [],
   "source": [
    "play_store_df = pd.get_dummies(play_store_df, columns = ['Category', 'Type'], drop_first=True)"
   ]
  },
  {
   "cell_type": "code",
   "execution_count": 9,
   "metadata": {},
   "outputs": [
    {
     "data": {
      "text/html": [
       "<div>\n",
       "<style scoped>\n",
       "    .dataframe tbody tr th:only-of-type {\n",
       "        vertical-align: middle;\n",
       "    }\n",
       "\n",
       "    .dataframe tbody tr th {\n",
       "        vertical-align: top;\n",
       "    }\n",
       "\n",
       "    .dataframe thead th {\n",
       "        text-align: right;\n",
       "    }\n",
       "</style>\n",
       "<table border=\"1\" class=\"dataframe\">\n",
       "  <thead>\n",
       "    <tr style=\"text-align: right;\">\n",
       "      <th></th>\n",
       "      <th>App</th>\n",
       "      <th>Rating</th>\n",
       "      <th>Reviews</th>\n",
       "      <th>Size</th>\n",
       "      <th>Installs</th>\n",
       "      <th>Price</th>\n",
       "      <th>Content Rating</th>\n",
       "      <th>Genres</th>\n",
       "      <th>Last Updated</th>\n",
       "      <th>Current Ver</th>\n",
       "      <th>...</th>\n",
       "      <th>Category_PHOTOGRAPHY</th>\n",
       "      <th>Category_PRODUCTIVITY</th>\n",
       "      <th>Category_SHOPPING</th>\n",
       "      <th>Category_SOCIAL</th>\n",
       "      <th>Category_SPORTS</th>\n",
       "      <th>Category_TOOLS</th>\n",
       "      <th>Category_TRAVEL_AND_LOCAL</th>\n",
       "      <th>Category_VIDEO_PLAYERS</th>\n",
       "      <th>Category_WEATHER</th>\n",
       "      <th>Type_Paid</th>\n",
       "    </tr>\n",
       "  </thead>\n",
       "  <tbody>\n",
       "    <tr>\n",
       "      <th>0</th>\n",
       "      <td>Photo Editor &amp; Candy Camera &amp; Grid &amp; ScrapBook</td>\n",
       "      <td>4.1</td>\n",
       "      <td>159</td>\n",
       "      <td>19M</td>\n",
       "      <td>10,000+</td>\n",
       "      <td>0</td>\n",
       "      <td>Everyone</td>\n",
       "      <td>Art &amp; Design</td>\n",
       "      <td>January 7, 2018</td>\n",
       "      <td>1.0.0</td>\n",
       "      <td>...</td>\n",
       "      <td>0</td>\n",
       "      <td>0</td>\n",
       "      <td>0</td>\n",
       "      <td>0</td>\n",
       "      <td>0</td>\n",
       "      <td>0</td>\n",
       "      <td>0</td>\n",
       "      <td>0</td>\n",
       "      <td>0</td>\n",
       "      <td>0</td>\n",
       "    </tr>\n",
       "    <tr>\n",
       "      <th>1</th>\n",
       "      <td>Coloring book moana</td>\n",
       "      <td>3.9</td>\n",
       "      <td>967</td>\n",
       "      <td>14M</td>\n",
       "      <td>500,000+</td>\n",
       "      <td>0</td>\n",
       "      <td>Everyone</td>\n",
       "      <td>Art &amp; Design;Pretend Play</td>\n",
       "      <td>January 15, 2018</td>\n",
       "      <td>2.0.0</td>\n",
       "      <td>...</td>\n",
       "      <td>0</td>\n",
       "      <td>0</td>\n",
       "      <td>0</td>\n",
       "      <td>0</td>\n",
       "      <td>0</td>\n",
       "      <td>0</td>\n",
       "      <td>0</td>\n",
       "      <td>0</td>\n",
       "      <td>0</td>\n",
       "      <td>0</td>\n",
       "    </tr>\n",
       "  </tbody>\n",
       "</table>\n",
       "<p>2 rows × 44 columns</p>\n",
       "</div>"
      ],
      "text/plain": [
       "                                              App  Rating Reviews Size  \\\n",
       "0  Photo Editor & Candy Camera & Grid & ScrapBook     4.1     159  19M   \n",
       "1                             Coloring book moana     3.9     967  14M   \n",
       "\n",
       "   Installs Price Content Rating                     Genres      Last Updated  \\\n",
       "0   10,000+     0       Everyone               Art & Design   January 7, 2018   \n",
       "1  500,000+     0       Everyone  Art & Design;Pretend Play  January 15, 2018   \n",
       "\n",
       "  Current Ver    ...     Category_PHOTOGRAPHY  Category_PRODUCTIVITY  \\\n",
       "0       1.0.0    ...                        0                      0   \n",
       "1       2.0.0    ...                        0                      0   \n",
       "\n",
       "   Category_SHOPPING  Category_SOCIAL  Category_SPORTS  Category_TOOLS  \\\n",
       "0                  0                0                0               0   \n",
       "1                  0                0                0               0   \n",
       "\n",
       "   Category_TRAVEL_AND_LOCAL  Category_VIDEO_PLAYERS  Category_WEATHER  \\\n",
       "0                          0                       0                 0   \n",
       "1                          0                       0                 0   \n",
       "\n",
       "   Type_Paid  \n",
       "0          0  \n",
       "1          0  \n",
       "\n",
       "[2 rows x 44 columns]"
      ]
     },
     "execution_count": 9,
     "metadata": {},
     "output_type": "execute_result"
    }
   ],
   "source": [
    "play_store_df.head(2)"
   ]
  },
  {
   "cell_type": "code",
   "execution_count": 10,
   "metadata": {},
   "outputs": [
    {
     "data": {
      "text/plain": [
       "(10839, 44)"
      ]
     },
     "execution_count": 10,
     "metadata": {},
     "output_type": "execute_result"
    }
   ],
   "source": [
    "play_store_df.shape"
   ]
  },
  {
   "cell_type": "code",
   "execution_count": 11,
   "metadata": {},
   "outputs": [
    {
     "data": {
      "text/plain": [
       "count    9366.000000\n",
       "mean        4.191757\n",
       "std         0.515219\n",
       "min         1.000000\n",
       "25%         4.000000\n",
       "50%         4.300000\n",
       "75%         4.500000\n",
       "max         5.000000\n",
       "Name: Rating, dtype: float64"
      ]
     },
     "execution_count": 11,
     "metadata": {},
     "output_type": "execute_result"
    }
   ],
   "source": [
    "play_store_df.Rating.describe()"
   ]
  },
  {
   "cell_type": "code",
   "execution_count": 22,
   "metadata": {},
   "outputs": [],
   "source": [
    "play_store_df.Reviews = play_store_df.Reviews.astype('int64')"
   ]
  },
  {
   "cell_type": "code",
   "execution_count": 23,
   "metadata": {},
   "outputs": [
    {
     "data": {
      "text/plain": [
       "count    1.083900e+04\n",
       "mean     4.441939e+05\n",
       "std      2.927893e+06\n",
       "min      0.000000e+00\n",
       "25%      3.800000e+01\n",
       "50%      2.094000e+03\n",
       "75%      5.478300e+04\n",
       "max      7.815831e+07\n",
       "Name: Reviews, dtype: float64"
      ]
     },
     "execution_count": 23,
     "metadata": {},
     "output_type": "execute_result"
    }
   ],
   "source": [
    "play_store_df.Reviews.describe()"
   ]
  },
  {
   "cell_type": "code",
   "execution_count": 16,
   "metadata": {},
   "outputs": [],
   "source": [
    "#play_store_df[play_store_df.Reviews == '3.0M']"
   ]
  },
  {
   "cell_type": "code",
   "execution_count": null,
   "metadata": {},
   "outputs": [],
   "source": []
  },
  {
   "cell_type": "code",
   "execution_count": null,
   "metadata": {},
   "outputs": [],
   "source": []
  }
 ],
 "metadata": {
  "kernelspec": {
   "display_name": "Python 3",
   "language": "python",
   "name": "python3"
  },
  "language_info": {
   "codemirror_mode": {
    "name": "ipython",
    "version": 3
   },
   "file_extension": ".py",
   "mimetype": "text/x-python",
   "name": "python",
   "nbconvert_exporter": "python",
   "pygments_lexer": "ipython3",
   "version": "3.6.5"
  }
 },
 "nbformat": 4,
 "nbformat_minor": 2
}
